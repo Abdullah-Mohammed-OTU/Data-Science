{
 "cells": [
  {
   "cell_type": "code",
   "execution_count": 1,
   "metadata": {},
   "outputs": [
    {
     "name": "stdout",
     "output_type": "stream",
     "text": [
      "   10361  4.0  12.0  110.0  4.0.1  4.0.2  4.0.3  01/16/2018  4.0.4  4.0.5  \\\n",
      "0  10362  5.0  19.0  238.0    3.0    4.0    2.0  11/28/2019    4.0    3.0   \n",
      "1  10363  2.0   3.0   20.0    0.0    2.0    2.0  11/28/2019    2.0    3.0   \n",
      "2  10364  2.0   3.0   15.0    0.0    3.0    3.0  11/28/2019    2.0    3.0   \n",
      "3  10365  3.0   9.0   88.0    4.0    4.0    4.0  03/05/2019    3.0    3.0   \n",
      "4  10366  5.0   6.0   48.0    5.0    5.0    5.0  12/05/2019    5.0    4.0   \n",
      "\n",
      "   ...  4156547.0  77.0  3.0.1       92  CARLTON ST   3.0.2  4.0.15  13  \\\n",
      "0  ...  4156554.0  73.0    3.0  3947  LAWRENCE AVE E    4.0     0.0  24   \n",
      "1  ...  4156555.0  52.0    3.0  3945  LAWRENCE AVE E    2.0     0.0  24   \n",
      "2  ...  4156556.0  55.0    3.0  3943  LAWRENCE AVE E    2.0     0.0  24   \n",
      "3  ...  4153237.0  66.0    4.0    276  ST GEORGE ST     3.0     0.0  11   \n",
      "4  ...  4153704.0  96.0    5.0   7  COATSWORTH CRES     5.0     4.0  19   \n",
      "\n",
      "   4.0.16  2010.0  2017.0  \n",
      "0     4.0  1970.0  2017.0  \n",
      "1     2.0  1970.0  2017.0  \n",
      "2     2.0  1970.0  2018.0  \n",
      "3     3.0  1965.0  2017.0  \n",
      "4     5.0  1993.0  2017.0  \n",
      "\n",
      "[5 rows x 33 columns]\n"
     ]
    }
   ],
   "source": [
    "import pandas as pd\n",
    "import matplotlib.pyplot as plt \n",
    "import numpy as np  \n",
    "\n",
    "cd = pd.read_csv('apartment_building_evaluation.csv')\n",
    "\n",
    "print(cd.head(5))"
   ]
  }
 ],
 "metadata": {
  "interpreter": {
   "hash": "aebb5cccd4f47ee8747d5409423bc082ae0a8a49e5616eeb57a36b95523bb09d"
  },
  "kernelspec": {
   "display_name": "Python 3.9.7 64-bit ('base': conda)",
   "language": "python",
   "name": "python3"
  },
  "language_info": {
   "codemirror_mode": {
    "name": "ipython",
    "version": 3
   },
   "file_extension": ".py",
   "mimetype": "text/x-python",
   "name": "python",
   "nbconvert_exporter": "python",
   "pygments_lexer": "ipython3",
   "version": "3.9.7"
  },
  "orig_nbformat": 4
 },
 "nbformat": 4,
 "nbformat_minor": 2
}
